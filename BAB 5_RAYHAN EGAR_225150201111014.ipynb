{
  "cells": [
    {
      "cell_type": "markdown",
      "metadata": {
        "id": "aLsVNuahNyLX"
      },
      "source": [
        "# Madaline"
      ]
    },
    {
      "cell_type": "markdown",
      "metadata": {
        "id": "BHsOsVtUNygd"
      },
      "source": [
        "## Praktikum"
      ]
    },
    {
      "cell_type": "markdown",
      "metadata": {
        "id": "iLSQhRDeWyO9"
      },
      "source": [
        "### a) Import modul\n",
        "Tulis kode ke dalam *cell* di bawah ini:\n"
      ]
    },
    {
      "cell_type": "code",
      "execution_count": 1,
      "metadata": {
        "id": "L7GAbOJcW7vD"
      },
      "outputs": [],
      "source": [
        "import numpy as np"
      ]
    },
    {
      "cell_type": "markdown",
      "metadata": {
        "id": "YO9WiMOEN3cD"
      },
      "source": [
        "### b) Fungsi Aktivasi\n",
        "\n",
        "Tulis kode ke dalam *cell* di bawah ini:"
      ]
    },
    {
      "cell_type": "code",
      "execution_count": 2,
      "metadata": {
        "id": "ulV5uF9zNwBG"
      },
      "outputs": [],
      "source": [
        "def aktivasi(x):\n",
        "    if x < 0:\n",
        "        return -1\n",
        "    else:\n",
        "        return 1"
      ]
    },
    {
      "cell_type": "markdown",
      "metadata": {
        "id": "4UV2JYGuFKwU"
      },
      "source": [
        "### c) Fungsi *Training* Madaline\n",
        "\n",
        "Tulis kode ke dalam *cell* di bawah ini:"
      ]
    },
    {
      "cell_type": "code",
      "execution_count": 13,
      "metadata": {
        "id": "Ucso7xGNFp0k"
      },
      "outputs": [],
      "source": [
        "def train(train_data, train_target, alpha=.1, max_epoch=10, return_epoch=False):\n",
        "    w = np.random.random((2,2))\n",
        "    v = np.array([.5, .5])\n",
        "    b = np.random.random(2)\n",
        "    b = np.append(b, 0.5)\n",
        "    epoch = 0\n",
        "\n",
        "    v_aktivasi = np.vectorize(aktivasi)\n",
        "    weight_updated = True\n",
        "    \n",
        "    while weight_updated == True and epoch < max_epoch:\n",
        "        weight_updated = False\n",
        "        \n",
        "        for data, target in zip(train_data, train_target):\n",
        "            z_in = np.dot(data, w)\n",
        "            z_in = z_in + b[:-1]\n",
        "            z = v_aktivasi(z_in)\n",
        "\n",
        "            y_in = np.dot(z, v) + b[-1]\n",
        "            y = v_aktivasi(y_in)\n",
        "\n",
        "            if y != target:\n",
        "                weight_updated = True\n",
        "\n",
        "                if target == 1:\n",
        "                    index = np.argmin(np.abs(z_in))\n",
        "                    b[index] = b[index] + alpha * (1-z_in[index])\n",
        "                    w[:, index] = w[:, index] + alpha * (1-z_in[index]) * data\n",
        "                \n",
        "                elif target == -1:\n",
        "                    index = np.where(z_in>0)[0]\n",
        "                    if len(index) == 1:\n",
        "                        index = index[0]\n",
        "                    b[index] = b[index] + alpha * (-1 - z_in[index])\n",
        "                    w[:, index] = w[:, index] + alpha * (-1 - z_in[index]) * data\n",
        "\n",
        "        epoch = epoch + 1\n",
        "    if(return_epoch):\n",
        "        return(w, v, b, epoch)\n",
        "    else:\n",
        "        return(w, v, b)\n"
      ]
    },
    {
      "cell_type": "markdown",
      "metadata": {
        "id": "xK7ORrumFyDw"
      },
      "source": [
        "### d) Fungsi *Testing* Madaline\n",
        "\n",
        "Tulis kode ke dalam *cell* di bawah ini:"
      ]
    },
    {
      "cell_type": "code",
      "execution_count": 5,
      "metadata": {
        "id": "oJCw9DgYF_ME"
      },
      "outputs": [],
      "source": [
        "def test(w, v, b, test_data):\n",
        "    v_aktivasi = np.vectorize(aktivasi)\n",
        "    z_in = np.dot(test_data, w)\n",
        "    z_in = z_in + b[:-1]\n",
        "    z = v_aktivasi(z_in)\n",
        "\n",
        "    y_in = np.dot(z, v) + b[-1]\n",
        "    y = v_aktivasi(y_in)\n",
        "\n",
        "    return y"
      ]
    },
    {
      "cell_type": "markdown",
      "metadata": {
        "id": "CplKg8gb0OAx"
      },
      "source": [
        "### e) Fungsi Hitung Akurasi\n",
        "\n",
        "Tulis kode ke dalam *cell* di bawah ini:"
      ]
    },
    {
      "cell_type": "code",
      "execution_count": 6,
      "metadata": {
        "id": "4XvvdMjR0P-X"
      },
      "outputs": [],
      "source": [
        "def calc_accuracy(a, b):\n",
        "    s = [1 if a[i] == b[i] else 0 for i in range(len(a))]\n",
        "    return sum(s)/len(a)"
      ]
    },
    {
      "cell_type": "markdown",
      "metadata": {
        "id": "AzVQKtKTFx9l"
      },
      "source": [
        "### f) Logika AND\n",
        "\n",
        "Tulis kode ke dalam *cell* di bawah ini:"
      ]
    },
    {
      "cell_type": "code",
      "execution_count": 7,
      "metadata": {
        "id": "2d254SJzGKGu"
      },
      "outputs": [
        {
          "name": "stdout",
          "output_type": "stream",
          "text": [
            "Output: [ 1 -1 -1 -1]\n",
            "Target: [ 1 -1 -1 -1]\n",
            "Accuracy: 1.0\n"
          ]
        }
      ],
      "source": [
        "data = np.array([[1, 1], [1, -1], [-1, 1], [-1, -1]])\n",
        "target = np.array([1,-1,-1,-1])\n",
        "(w,v,b) = train(data,target,alpha=0.8,max_epoch=10)\n",
        "output = test(w,v,b,data)\n",
        "accuracy = calc_accuracy(output, target)\n",
        "\n",
        "print('Output:', output)\n",
        "print('Target:', target)\n",
        "print('Accuracy:', accuracy)"
      ]
    },
    {
      "cell_type": "markdown",
      "metadata": {
        "id": "xRK1QN-kGMFG"
      },
      "source": [
        "### g) Logika OR\n",
        "\n",
        "Tulis kode ke dalam *cell* di bawah ini:"
      ]
    },
    {
      "cell_type": "code",
      "execution_count": 8,
      "metadata": {
        "id": "BvcGLITGGO2F"
      },
      "outputs": [
        {
          "name": "stdout",
          "output_type": "stream",
          "text": [
            "Output: [ 1  1  1 -1]\n",
            "Target: [ 1  1  1 -1]\n",
            "Accuracy: 1.0\n"
          ]
        }
      ],
      "source": [
        "data = np.array([[1, 1], [1, -1], [-1, 1], [-1, -1]])\n",
        "target = np.array([1,1,1,-1])\n",
        "(w,v,b) = train(data,target,alpha=0.2,max_epoch=10)\n",
        "output = test(w,v,b,data)\n",
        "accuracy = calc_accuracy(output, target)\n",
        "\n",
        "print('Output:', output)\n",
        "print('Target:', target)\n",
        "print('Accuracy:', accuracy)"
      ]
    },
    {
      "cell_type": "markdown",
      "metadata": {},
      "source": [
        "### h) Logika OR (rentang alpha 0.1--1)\n",
        "\n",
        "Tulis kode ke dalam *cell* di bawah ini:"
      ]
    },
    {
      "cell_type": "code",
      "execution_count": 15,
      "metadata": {},
      "outputs": [
        {
          "name": "stdout",
          "output_type": "stream",
          "text": [
            "   Alpha value  Accuracy  Epoch\n",
            "0          0.1       1.0      6\n",
            "1          0.2       1.0      5\n",
            "2          0.3       1.0      3\n",
            "3          0.4       1.0      3\n",
            "4          0.5       1.0      3\n",
            "5          0.6       1.0      2\n",
            "6          0.7       1.0      2\n",
            "7          0.8       1.0      3\n",
            "8          0.9       1.0      2\n",
            "9          1.0       1.0      2\n"
          ]
        }
      ],
      "source": [
        "import pandas as pd\n",
        "\n",
        "alpha_range = np.arange(.1, 1.1, .1)\n",
        "data = np.array([[1, 1], [1, -1], [-1, 1], [-1, -1]])\n",
        "target = np.array([1,-1,-1,-1])\n",
        "accuracy = []\n",
        "epoch_arr = []\n",
        "\n",
        "for alpha in alpha_range:\n",
        "    (w, v, b, epoch) = train(data, target, alpha=alpha, max_epoch=10, return_epoch=True)\n",
        "    output = test(w, v, b, data)\n",
        "    accuracy.append(calc_accuracy(output, target))\n",
        "    epoch_arr.append(epoch)\n",
        "\n",
        "alpha_dict = {\n",
        "    'Alpha value':alpha_range,\n",
        "    'Accuracy':accuracy,\n",
        "    'Epoch':epoch_arr\n",
        "}    \n",
        "\n",
        "alpha_dict = pd.DataFrame(alpha_dict)\n",
        "\n",
        "print(alpha_dict)"
      ]
    },
    {
      "cell_type": "markdown",
      "metadata": {},
      "source": [
        "### i) Logika XOR\n",
        "\n",
        "Tulis kode ke dalam *cell* di bawah ini:"
      ]
    },
    {
      "cell_type": "code",
      "execution_count": 17,
      "metadata": {},
      "outputs": [
        {
          "name": "stdout",
          "output_type": "stream",
          "text": [
            "   Alpha value  Accuracy  Epoch\n",
            "0          0.1       1.0      5\n",
            "1          0.2       1.0      3\n",
            "2          0.3       1.0      3\n",
            "3          0.4       1.0      3\n",
            "4          0.5       1.0      2\n",
            "5          0.6       1.0      4\n",
            "6          0.7       1.0      3\n",
            "7          0.8       1.0      3\n",
            "8          0.9       1.0      3\n",
            "9          1.0       1.0      3\n"
          ]
        }
      ],
      "source": [
        "import pandas as pd\n",
        "\n",
        "alpha_range = np.arange(.1, 1.1, .1)\n",
        "data = np.array([[1, 1], [1, -1], [-1, 1], [-1, -1]])\n",
        "target = np.array([-1,1,1,-1])\n",
        "accuracy = []\n",
        "epoch_arr = []\n",
        "\n",
        "for alpha in alpha_range:\n",
        "    (w, v, b, epoch) = train(data, target, alpha=alpha, max_epoch=10, return_epoch=True)\n",
        "    output = test(w, v, b, data)\n",
        "    accuracy.append(calc_accuracy(output, target))\n",
        "    epoch_arr.append(epoch)\n",
        "\n",
        "alpha_dict = {\n",
        "    'Alpha value':alpha_range,\n",
        "    'Accuracy':accuracy,\n",
        "    'Epoch':epoch_arr\n",
        "}    \n",
        "\n",
        "alpha_dict = pd.DataFrame(alpha_dict)\n",
        "\n",
        "print(alpha_dict)"
      ]
    },
    {
      "cell_type": "markdown",
      "metadata": {},
      "source": [
        "### h) Logika OR dengan data biner dan fungsi aktivasi Binary Step"
      ]
    },
    {
      "cell_type": "code",
      "execution_count": 20,
      "metadata": {},
      "outputs": [],
      "source": [
        "def aktivasi(x):\n",
        "    if x < 0:\n",
        "        return 0\n",
        "    else:\n",
        "        return 1"
      ]
    },
    {
      "cell_type": "code",
      "execution_count": 21,
      "metadata": {},
      "outputs": [
        {
          "name": "stdout",
          "output_type": "stream",
          "text": [
            "Output: [1 1 1 1]\n",
            "Target: [1 1 1 0]\n",
            "Accuracy: 0.75\n"
          ]
        }
      ],
      "source": [
        "data = np.array([[1, 1], [1, 0], [0, 1], [0, 0]])\n",
        "target = np.array([1,1,1,0])\n",
        "(w,v,b) = train(data,target,alpha=0.2,max_epoch=10)\n",
        "output = test(w,v,b,data)\n",
        "accuracy = calc_accuracy(output, target)\n",
        "\n",
        "print('Output:', output)\n",
        "print('Target:', target)\n",
        "print('Accuracy:', accuracy)"
      ]
    },
    {
      "cell_type": "code",
      "execution_count": 23,
      "metadata": {},
      "outputs": [
        {
          "name": "stdout",
          "output_type": "stream",
          "text": [
            "   Alpha value  Accuracy  Epoch\n",
            "0        0.001      0.75     10\n",
            "1        0.010      0.75     10\n",
            "2        0.100      0.75     10\n"
          ]
        }
      ],
      "source": [
        "import pandas as pd\n",
        "\n",
        "alpha_range = [0.001, 0.01, 0.1]\n",
        "data = np.array([[1, 1], [1, 0], [0, 1], [0, 0]])\n",
        "target = np.array([1,1,1,0])\n",
        "accuracy = []\n",
        "epoch_arr = []\n",
        "\n",
        "for alpha in alpha_range:\n",
        "    (w, v, b, epoch) = train(data, target, alpha=alpha, max_epoch=10, return_epoch=True)\n",
        "    output = test(w, v, b, data)\n",
        "    accuracy.append(calc_accuracy(output, target))\n",
        "    epoch_arr.append(epoch)\n",
        "\n",
        "alpha_dict = {\n",
        "    'Alpha value':alpha_range,\n",
        "    'Accuracy':accuracy,\n",
        "    'Epoch':epoch_arr\n",
        "}    \n",
        "\n",
        "alpha_dict = pd.DataFrame(alpha_dict)\n",
        "\n",
        "print(alpha_dict)"
      ]
    }
  ],
  "metadata": {
    "colab": {
      "provenance": [],
      "toc_visible": true
    },
    "kernelspec": {
      "display_name": "base",
      "language": "python",
      "name": "python3"
    },
    "language_info": {
      "codemirror_mode": {
        "name": "ipython",
        "version": 3
      },
      "file_extension": ".py",
      "mimetype": "text/x-python",
      "name": "python",
      "nbconvert_exporter": "python",
      "pygments_lexer": "ipython3",
      "version": "3.12.3"
    }
  },
  "nbformat": 4,
  "nbformat_minor": 0
}
