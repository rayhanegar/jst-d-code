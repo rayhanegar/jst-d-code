{
  "cells": [
    {
      "cell_type": "markdown",
      "metadata": {
        "id": "3Drkgs9wZyLi"
      },
      "source": [
        "# Modul\n",
        "- Nama: Rayhan Egar Sadtya Nugraha\n",
        "- NIM: 22150201111014\n",
        "- Kelas: TIF-JST-D"
      ]
    },
    {
      "cell_type": "markdown",
      "metadata": {
        "id": "auF7HkUpZ1-B"
      },
      "source": [
        "## Fungsi-fungsi *plotting*\n",
        "\n",
        "Jangan mengubah kode pada *cell* di bawah ini."
      ]
    },
    {
      "cell_type": "code",
      "execution_count": 2,
      "metadata": {
        "id": "c003enG179a_"
      },
      "outputs": [],
      "source": [
        "import matplotlib.pyplot as plt\n",
        "import numpy as np\n",
        "\n",
        "\n",
        "def line(w, th=0):\n",
        "    w2 = w[2] + .001 if w[2] == 0 else w[2]\n",
        "\n",
        "    return lambda x: (th - w[1] * x - w[0]) / w2\n",
        "\n",
        "\n",
        "def plot(func, X, target, padding=1):\n",
        "    X = np.array(X)\n",
        "\n",
        "    x_vals, y_vals = X[:, 1], X[:, 2]\n",
        "    xmin, xmax, ymin, ymax = x_vals.min(), x_vals.max(), y_vals.min(), y_vals.max()\n",
        "\n",
        "    color = 'ro', 'bo'\n",
        "    line_x = np.arange(xmin-padding-1, xmax+padding+1)\n",
        "\n",
        "    for c, v in enumerate(np.unique(target)):\n",
        "        p = X[np.where(target == v)]\n",
        "\n",
        "        plt.plot(p[:,1], p[:,2], color[c])\n",
        "\n",
        "    plt.axis([xmin-padding, xmax+padding, ymin-padding, ymax+padding])\n",
        "    plt.plot(line_x, func(line_x))\n",
        "    plt.show()"
      ]
    },
    {
      "cell_type": "markdown",
      "metadata": {
        "id": "428XEOuFa4I-"
      },
      "source": [
        "## Praktikum"
      ]
    },
    {
      "cell_type": "markdown",
      "metadata": {
        "id": "7v5gZmzua6Xa"
      },
      "source": [
        "### a) Fungsi *step* Bipolar\n",
        "\n",
        "Tulis kode ke dalam *cell* di bawah ini:"
      ]
    },
    {
      "cell_type": "code",
      "execution_count": 3,
      "metadata": {
        "id": "pkverfHua1UT"
      },
      "outputs": [],
      "source": [
        "def bipstep(y, th=0):\n",
        "  return 1 if y >= th else -1"
      ]
    },
    {
      "cell_type": "markdown",
      "metadata": {
        "id": "c2PFmNV2cBNU"
      },
      "source": [
        "### b) Fungsi *training* Hebb\n",
        "\n",
        "Tulis kode ke dalam *cell* di bawah ini:"
      ]
    },
    {
      "cell_type": "code",
      "execution_count": 4,
      "metadata": {
        "id": "NhWLpL0NcJ0e"
      },
      "outputs": [],
      "source": [
        "def hebb_fit(train, target, verbose=False, draw=False,\n",
        "draw_padding=1):\n",
        "  w = np.zeros(len(train[0]) + 1)\n",
        "  bias = np.ones((len(train), 1))\n",
        "  train = np.hstack((bias, train))\n",
        "  for r, row in enumerate(train):\n",
        "    w = [w[i] + row[i] * target[r] for i in range(len(row))]\n",
        "    if verbose:\n",
        "      print('Bobot:', w)\n",
        "    if draw:\n",
        "      plot(line(w, 0), train, target, draw_padding)\n",
        "\n",
        "  return w"
      ]
    },
    {
      "cell_type": "markdown",
      "metadata": {
        "id": "5i1WY3b1cXBu"
      },
      "source": [
        "### c) Fungsi *testing* Hebb\n",
        "\n",
        "Tulis kode ke dalam *cell* di bawah ini:"
      ]
    },
    {
      "cell_type": "code",
      "execution_count": 5,
      "metadata": {
        "id": "38_AP2x9ca1o"
      },
      "outputs": [],
      "source": [
        "def hebb_predict(X, w):\n",
        "  Y = []\n",
        "  for x in X:\n",
        "    y_in = w[0] + np.dot(x, w[1:])\n",
        "    y = bipstep(y_in)\n",
        "    Y.append(y)\n",
        "  return Y"
      ]
    },
    {
      "cell_type": "markdown",
      "metadata": {
        "id": "SBwF8AakkHHl"
      },
      "source": [
        "### d) Fungsi Hitung Akurasi"
      ]
    },
    {
      "cell_type": "code",
      "execution_count": 6,
      "metadata": {
        "id": "Jjqb3tqZkHhV"
      },
      "outputs": [],
      "source": [
        "def calc_accuracy(a, b):\n",
        "  s = [1 if a[i] == b[i] else 0 for i in range(len(a))]\n",
        "  return sum(s) / len(a)"
      ]
    },
    {
      "cell_type": "markdown",
      "metadata": {
        "id": "R4p6dzCmmN3f"
      },
      "source": [
        "# Soal"
      ]
    },
    {
      "cell_type": "markdown",
      "metadata": {
        "id": "ZvFom8bXx1bq"
      },
      "source": [
        "Gunakan dataset \"Healthcare-Diabetes.csv\" yang telah dilampirkan"
      ]
    },
    {
      "cell_type": "markdown",
      "metadata": {
        "id": "HshAOYYoyADN"
      },
      "source": [
        "Soal yang diajukan:\n",
        "1. Gunakan baris data ke-21 sampai ke-25"
      ]
    },
    {
      "cell_type": "markdown",
      "metadata": {
        "id": "foe3GsCWqU4w"
      },
      "source": [
        "## Import data"
      ]
    },
    {
      "cell_type": "code",
      "execution_count": 13,
      "metadata": {},
      "outputs": [],
      "source": [
        "# from google.colab import files\n",
        "# kontak = files.upload()\n",
        "# for fn in kontak.keys():\n",
        "#   print('Nama file\"{name}\" dengan panjang {length} bytes'.format(name=fn, length=len(kontak[fn])))"
      ]
    },
    {
      "cell_type": "code",
      "execution_count": 14,
      "metadata": {
        "id": "OhYt_4jGmU_o"
      },
      "outputs": [
        {
          "data": {
            "text/html": [
              "<div>\n",
              "<style scoped>\n",
              "    .dataframe tbody tr th:only-of-type {\n",
              "        vertical-align: middle;\n",
              "    }\n",
              "\n",
              "    .dataframe tbody tr th {\n",
              "        vertical-align: top;\n",
              "    }\n",
              "\n",
              "    .dataframe thead th {\n",
              "        text-align: right;\n",
              "    }\n",
              "</style>\n",
              "<table border=\"1\" class=\"dataframe\">\n",
              "  <thead>\n",
              "    <tr style=\"text-align: right;\">\n",
              "      <th></th>\n",
              "      <th>Id</th>\n",
              "      <th>Pregnancies</th>\n",
              "      <th>Glucose</th>\n",
              "      <th>BloodPressure</th>\n",
              "      <th>SkinThickness</th>\n",
              "      <th>Insulin</th>\n",
              "      <th>BMI</th>\n",
              "      <th>DiabetesPedigreeFunction</th>\n",
              "      <th>Age</th>\n",
              "      <th>Outcome</th>\n",
              "    </tr>\n",
              "  </thead>\n",
              "  <tbody>\n",
              "    <tr>\n",
              "      <th>0</th>\n",
              "      <td>1</td>\n",
              "      <td>6</td>\n",
              "      <td>148</td>\n",
              "      <td>72</td>\n",
              "      <td>35</td>\n",
              "      <td>0</td>\n",
              "      <td>33.6</td>\n",
              "      <td>0.627</td>\n",
              "      <td>50</td>\n",
              "      <td>1</td>\n",
              "    </tr>\n",
              "    <tr>\n",
              "      <th>1</th>\n",
              "      <td>2</td>\n",
              "      <td>1</td>\n",
              "      <td>85</td>\n",
              "      <td>66</td>\n",
              "      <td>29</td>\n",
              "      <td>0</td>\n",
              "      <td>26.6</td>\n",
              "      <td>0.351</td>\n",
              "      <td>31</td>\n",
              "      <td>0</td>\n",
              "    </tr>\n",
              "    <tr>\n",
              "      <th>2</th>\n",
              "      <td>3</td>\n",
              "      <td>8</td>\n",
              "      <td>183</td>\n",
              "      <td>64</td>\n",
              "      <td>0</td>\n",
              "      <td>0</td>\n",
              "      <td>23.3</td>\n",
              "      <td>0.672</td>\n",
              "      <td>32</td>\n",
              "      <td>1</td>\n",
              "    </tr>\n",
              "    <tr>\n",
              "      <th>3</th>\n",
              "      <td>4</td>\n",
              "      <td>1</td>\n",
              "      <td>89</td>\n",
              "      <td>66</td>\n",
              "      <td>23</td>\n",
              "      <td>94</td>\n",
              "      <td>28.1</td>\n",
              "      <td>0.167</td>\n",
              "      <td>21</td>\n",
              "      <td>0</td>\n",
              "    </tr>\n",
              "    <tr>\n",
              "      <th>4</th>\n",
              "      <td>5</td>\n",
              "      <td>0</td>\n",
              "      <td>137</td>\n",
              "      <td>40</td>\n",
              "      <td>35</td>\n",
              "      <td>168</td>\n",
              "      <td>43.1</td>\n",
              "      <td>2.288</td>\n",
              "      <td>33</td>\n",
              "      <td>1</td>\n",
              "    </tr>\n",
              "  </tbody>\n",
              "</table>\n",
              "</div>"
            ],
            "text/plain": [
              "   Id  Pregnancies  Glucose  BloodPressure  SkinThickness  Insulin   BMI  \\\n",
              "0   1            6      148             72             35        0  33.6   \n",
              "1   2            1       85             66             29        0  26.6   \n",
              "2   3            8      183             64              0        0  23.3   \n",
              "3   4            1       89             66             23       94  28.1   \n",
              "4   5            0      137             40             35      168  43.1   \n",
              "\n",
              "   DiabetesPedigreeFunction  Age  Outcome  \n",
              "0                     0.627   50        1  \n",
              "1                     0.351   31        0  \n",
              "2                     0.672   32        1  \n",
              "3                     0.167   21        0  \n",
              "4                     2.288   33        1  "
            ]
          },
          "execution_count": 14,
          "metadata": {},
          "output_type": "execute_result"
        }
      ],
      "source": [
        "import pandas as pd\n",
        "\n",
        "data = pd.read_csv('Healthcare-Diabetes.csv')\n",
        "data.head()"
      ]
    },
    {
      "cell_type": "markdown",
      "metadata": {
        "id": "pf6TlGj7gjFc"
      },
      "source": [
        "## Preprocess"
      ]
    },
    {
      "cell_type": "code",
      "execution_count": 15,
      "metadata": {
        "id": "pb1bRXf8qt0r"
      },
      "outputs": [
        {
          "data": {
            "text/html": [
              "<div>\n",
              "<style scoped>\n",
              "    .dataframe tbody tr th:only-of-type {\n",
              "        vertical-align: middle;\n",
              "    }\n",
              "\n",
              "    .dataframe tbody tr th {\n",
              "        vertical-align: top;\n",
              "    }\n",
              "\n",
              "    .dataframe thead th {\n",
              "        text-align: right;\n",
              "    }\n",
              "</style>\n",
              "<table border=\"1\" class=\"dataframe\">\n",
              "  <thead>\n",
              "    <tr style=\"text-align: right;\">\n",
              "      <th></th>\n",
              "      <th>Pregnancies</th>\n",
              "      <th>Glucose</th>\n",
              "      <th>BloodPressure</th>\n",
              "      <th>SkinThickness</th>\n",
              "      <th>Insulin</th>\n",
              "      <th>BMI</th>\n",
              "      <th>DiabetesPedigreeFunction</th>\n",
              "      <th>Age</th>\n",
              "      <th>Outcome</th>\n",
              "    </tr>\n",
              "  </thead>\n",
              "  <tbody>\n",
              "    <tr>\n",
              "      <th>0</th>\n",
              "      <td>6</td>\n",
              "      <td>148</td>\n",
              "      <td>72</td>\n",
              "      <td>35</td>\n",
              "      <td>0</td>\n",
              "      <td>33.6</td>\n",
              "      <td>0.627</td>\n",
              "      <td>50</td>\n",
              "      <td>1</td>\n",
              "    </tr>\n",
              "    <tr>\n",
              "      <th>1</th>\n",
              "      <td>1</td>\n",
              "      <td>85</td>\n",
              "      <td>66</td>\n",
              "      <td>29</td>\n",
              "      <td>0</td>\n",
              "      <td>26.6</td>\n",
              "      <td>0.351</td>\n",
              "      <td>31</td>\n",
              "      <td>-1</td>\n",
              "    </tr>\n",
              "    <tr>\n",
              "      <th>2</th>\n",
              "      <td>8</td>\n",
              "      <td>183</td>\n",
              "      <td>64</td>\n",
              "      <td>0</td>\n",
              "      <td>0</td>\n",
              "      <td>23.3</td>\n",
              "      <td>0.672</td>\n",
              "      <td>32</td>\n",
              "      <td>1</td>\n",
              "    </tr>\n",
              "    <tr>\n",
              "      <th>3</th>\n",
              "      <td>1</td>\n",
              "      <td>89</td>\n",
              "      <td>66</td>\n",
              "      <td>23</td>\n",
              "      <td>94</td>\n",
              "      <td>28.1</td>\n",
              "      <td>0.167</td>\n",
              "      <td>21</td>\n",
              "      <td>-1</td>\n",
              "    </tr>\n",
              "    <tr>\n",
              "      <th>4</th>\n",
              "      <td>0</td>\n",
              "      <td>137</td>\n",
              "      <td>40</td>\n",
              "      <td>35</td>\n",
              "      <td>168</td>\n",
              "      <td>43.1</td>\n",
              "      <td>2.288</td>\n",
              "      <td>33</td>\n",
              "      <td>1</td>\n",
              "    </tr>\n",
              "  </tbody>\n",
              "</table>\n",
              "</div>"
            ],
            "text/plain": [
              "   Pregnancies  Glucose  BloodPressure  SkinThickness  Insulin   BMI  \\\n",
              "0            6      148             72             35        0  33.6   \n",
              "1            1       85             66             29        0  26.6   \n",
              "2            8      183             64              0        0  23.3   \n",
              "3            1       89             66             23       94  28.1   \n",
              "4            0      137             40             35      168  43.1   \n",
              "\n",
              "   DiabetesPedigreeFunction  Age  Outcome  \n",
              "0                     0.627   50        1  \n",
              "1                     0.351   31       -1  \n",
              "2                     0.672   32        1  \n",
              "3                     0.167   21       -1  \n",
              "4                     2.288   33        1  "
            ]
          },
          "execution_count": 15,
          "metadata": {},
          "output_type": "execute_result"
        }
      ],
      "source": [
        "data = data.drop(columns=['Id'])\n",
        "data['Outcome'] = data['Outcome'].map({0:-1,\n",
        "                                       1:1})\n",
        "\n",
        "data.head()"
      ]
    },
    {
      "cell_type": "markdown",
      "metadata": {
        "id": "9E0cIpSOqpnm"
      },
      "source": [
        "## Pengujian"
      ]
    },
    {
      "cell_type": "code",
      "execution_count": 16,
      "metadata": {
        "id": "Bv_p04szrg6X"
      },
      "outputs": [
        {
          "name": "stdout",
          "output_type": "stream",
          "text": [
            "Bobot: [-1.0, -8.0, -99.0, -84.0, 0.0, 0.0, -35.4, -0.388, -50.0]\n"
          ]
        },
        {
          "data": {
            "image/png": "[encoded data removed]",
            "text/plain": [
              "<Figure size 640x480 with 1 Axes>"
            ]
          },
          "metadata": {},
          "output_type": "display_data"
        },
        {
          "name": "stdout",
          "output_type": "stream",
          "text": [
            "Bobot: [0.0, -1.0, 97.0, 6.0, 0.0, 0.0, 4.399999999999999, 0.063, -9.0]\n"
          ]
        },
        {
          "data": {
            "image/png": "[encoded data removed]",
            "text/plain": [
              "<Figure size 640x480 with 1 Axes>"
            ]
          },
          "metadata": {},
          "output_type": "display_data"
        },
        {
          "name": "stdout",
          "output_type": "stream",
          "text": [
            "Bobot: [1.0, 8.0, 216.0, 86.0, 35.0, 0.0, 33.4, 0.326, 20.0]\n"
          ]
        },
        {
          "data": {
            "image/png": "[encoded data removed]",
            "text/plain": [
              "<Figure size 640x480 with 1 Axes>"
            ]
          },
          "metadata": {},
          "output_type": "display_data"
        },
        {
          "name": "stdout",
          "output_type": "stream",
          "text": [
            "Bobot: [2.0, 19.0, 359.0, 180.0, 68.0, 146.0, 70.0, 0.5800000000000001, 71.0]\n"
          ]
        },
        {
          "data": {
            "image/png": "[encoded data removed]",
            "text/plain": [
              "<Figure size 640x480 with 1 Axes>"
            ]
          },
          "metadata": {},
          "output_type": "display_data"
        },
        {
          "name": "stdout",
          "output_type": "stream",
          "text": [
            "Bobot: [3.0, 29.0, 484.0, 250.0, 94.0, 261.0, 101.1, 0.785, 112.0]\n"
          ]
        },
        {
          "data": {
            "image/png": "[encoded data removed]",
            "text/plain": [
              "<Figure size 640x480 with 1 Axes>"
            ]
          },
          "metadata": {},
          "output_type": "display_data"
        },
        {
          "name": "stdout",
          "output_type": "stream",
          "text": [
            "Output: [1, 1, 1, 1, 1]\n",
            "Target: [-1  1  1  1  1]\n",
            "Accuracy: 0.8\n"
          ]
        }
      ],
      "source": [
        "#isilah array train oleh praktikan berdasarkan nilai data pada baris data ke-21 sampai ke-25\n",
        "train = data.iloc[21:26]\n",
        "train = train.drop(columns=['Outcome'])\n",
        "train = np.array(train)\n",
        "\n",
        "#isilah array target oleh praktikan berdasarkan nilai data pada baris data ke-21 sampai ke-25\n",
        "target = data.iloc[21:26]\n",
        "target = target['Outcome']\n",
        "target = np.array(target)\n",
        "\n",
        "model = hebb_fit(train, target, verbose=True, draw=True)\n",
        "output = hebb_predict(train, model)\n",
        "accuracy = calc_accuracy(output, target)\n",
        "\n",
        "print('Output:', output)\n",
        "print('Target:', target)\n",
        "print('Accuracy:', accuracy)"
      ]
    },
    {
      "cell_type": "code",
      "execution_count": null,
      "metadata": {},
      "outputs": [],
      "source": []
    }
  ],
  "metadata": {
    "colab": {
      "provenance": []
    },
    "kernelspec": {
      "display_name": "Python 3",
      "name": "python3"
    },
    "language_info": {
      "codemirror_mode": {
        "name": "ipython",
        "version": 3
      },
      "file_extension": ".py",
      "mimetype": "text/x-python",
      "name": "python",
      "nbconvert_exporter": "python",
      "pygments_lexer": "ipython3",
      "version": "3.11.7"
    }
  },
  "nbformat": 4,
  "nbformat_minor": 0
}
